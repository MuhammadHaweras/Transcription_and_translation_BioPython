{
 "cells": [
  {
   "cell_type": "markdown",
   "metadata": {},
   "source": [
    "# DNA → RNA → Protein: Understanding Transcription & Translation"
   ]
  },
  {
   "cell_type": "markdown",
   "metadata": {},
   "source": [
    "## Transcribing DNA to mRNA"
   ]
  },
  {
   "cell_type": "code",
   "execution_count": 3,
   "metadata": {},
   "outputs": [
    {
     "name": "stdout",
     "output_type": "stream",
     "text": [
      "mRNA Sequence: AUGCGUACGUUAG\n"
     ]
    }
   ],
   "source": [
    "import warnings\n",
    "warnings.filterwarnings(\"ignore\")\n",
    "\n",
    "from Bio.Seq import Seq\n",
    "\n",
    "dna_seq = Seq(\"ATGCGTACGTTAG\") #DNA Sequence\n",
    "\n",
    "# Transcribe to mRNA\n",
    "mRNA = dna_seq.transcribe()\n",
    "print(f\"mRNA Sequence: {mRNA}\")"
   ]
  },
  {
   "cell_type": "markdown",
   "metadata": {},
   "source": [
    "## Translating mRNA to Protein"
   ]
  },
  {
   "cell_type": "code",
   "execution_count": 4,
   "metadata": {},
   "outputs": [
    {
     "name": "stdout",
     "output_type": "stream",
     "text": [
      "Protien Sequnce: MRTL\n"
     ]
    }
   ],
   "source": [
    "protein = mRNA.translate()\n",
    "print(f\"Protien Sequnce: {protein}\")"
   ]
  },
  {
   "cell_type": "markdown",
   "metadata": {},
   "source": [
    "## Full Pipeline: DNA → mRNA → Protein"
   ]
  },
  {
   "cell_type": "code",
   "execution_count": 5,
   "metadata": {},
   "outputs": [],
   "source": [
    "def is_valid_dna(sequence):\n",
    "  valid_bases = set(\"ATGC\")\n",
    "  return all(base in valid_bases for base in sequence.upper())"
   ]
  },
  {
   "cell_type": "code",
   "execution_count": 6,
   "metadata": {},
   "outputs": [
    {
     "name": "stdout",
     "output_type": "stream",
     "text": [
      "mRNA Sequence: AAUGC\n",
      "Protein Sequence: N\n"
     ]
    }
   ],
   "source": [
    "dna_input = input(\"Enter a DNA sequence (only A, T, G, C): \").strip().upper()\n",
    "\n",
    "if not is_valid_dna(dna_input):\n",
    "  print(\"Error: Invalid DNA sequence. Only A, T, G, and C are allowed.\")\n",
    "else:\n",
    "  dna_seq = Seq(dna_input)\n",
    "\n",
    "  # Transcription\n",
    "  mRNA = dna_seq.transcribe()\n",
    "  print(f\"mRNA Sequence: {mRNA}\")\n",
    "        \n",
    "  # Translation\n",
    "  protein = mRNA.translate(to_stop=True)\n",
    "  print(f\"Protein Sequence: {protein}\")\n"
   ]
  },
  {
   "cell_type": "markdown",
   "metadata": {},
   "source": [
    "## Finding Start and Stop Codons in DNA Sequences"
   ]
  },
  {
   "cell_type": "code",
   "execution_count": 7,
   "metadata": {},
   "outputs": [
    {
     "name": "stdout",
     "output_type": "stream",
     "text": [
      "DNA Sequence: ATGGCCATTGTAATGGGCCGCTGAAAGGGTGCCCGATAG\n",
      "Start Codon: ATG\n",
      "Stop Codon: TGA\n",
      "Protein Sequence: MAIVMGR\n",
      "--------------------------------------------------\n",
      "DNA Sequence: ATGTTTCCCGGGAATCTAA\n",
      "Start Codon: ATG\n",
      "Stop Codon: TAA\n",
      "Protein Sequence: MFPGNL\n",
      "--------------------------------------------------\n",
      "DNA Sequence: ATGGGTTGAGTAA\n",
      "Start Codon: ATG\n",
      "Stop Codon: TGA\n",
      "Protein Sequence: MG\n",
      "--------------------------------------------------\n",
      "DNA Sequence: ATGAGGGTCCCTGA\n",
      "Start Codon: ATG\n",
      "Stop Codon: TGA\n",
      "Protein Sequence: MRVP\n",
      "--------------------------------------------------\n"
     ]
    }
   ],
   "source": [
    "# Function to find start and stop codons, and translate sequence\n",
    "def translate_dna(seq_str):\n",
    "  dna_seq = Seq(seq_str)\n",
    "  mRNA = dna_seq.transcribe()\n",
    "  protein_seq = mRNA.translate(to_stop=True)  # Translates until the first stop codon\n",
    "  start_codon = seq_str[:3]\n",
    "  stop_codon = None\n",
    "\n",
    "  # Find the stop codon\n",
    "  for i in range(0, len(seq_str) - 2, 3):\n",
    "    codon = seq_str[i:i+3]\n",
    "    if codon in [\"TAA\", \"TAG\", \"TGA\"]:\n",
    "      stop_codon = codon\n",
    "      break\n",
    "\n",
    "  # Check if stop codon exists at the end\n",
    "  if not stop_codon and seq_str[-3:] in [\"TAA\", \"TAG\", \"TGA\"]:\n",
    "    stop_codon = seq_str[-3:]\n",
    "\n",
    "  return start_codon, stop_codon, str(protein_seq)\n",
    "\n",
    "# List of DNA sequences\n",
    "dna_sequences = [\n",
    "  \"ATGGCCATTGTAATGGGCCGCTGAAAGGGTGCCCGATAG\",\n",
    "  \"ATGTTTCCCGGGAATCTAA\",\n",
    "  \"ATGGGTTGAGTAA\",\n",
    "  \"ATGAGGGTCCCTGA\"\n",
    "]\n",
    "\n",
    "for seq in dna_sequences:\n",
    "  start, stop, protein = translate_dna(seq)\n",
    "  print(f\"DNA Sequence: {seq}\")\n",
    "  print(f\"Start Codon: {start}\")\n",
    "  print(f\"Stop Codon: {stop if stop else 'No stop codon found'}\")\n",
    "  print(f\"Protein Sequence: {protein}\")\n",
    "  print(\"-\" * 50)\n"
   ]
  },
  {
   "cell_type": "markdown",
   "metadata": {},
   "source": [
    "## Find the Start Codon"
   ]
  },
  {
   "cell_type": "code",
   "execution_count": null,
   "metadata": {},
   "outputs": [
    {
     "name": "stdout",
     "output_type": "stream",
     "text": [
      "mRNA Sequence: AUGGCCAUUGUAAUGGGCCGCUGAAAGGGUGCCCGAUAG\n",
      "Protein Sequence: MAIVMGR\n",
      "--------------------------------------------------\n",
      "No Start Codon Found\n",
      "--------------------------------------------------\n",
      "mRNA Sequence: AUGGGUUGAGUAA\n",
      "Protein Sequence: MG\n",
      "--------------------------------------------------\n",
      "No Start Codon Found\n",
      "--------------------------------------------------\n"
     ]
    }
   ],
   "source": [
    "for seq in dna_sequences:\n",
    "  if seq[0:3] == \"ATG\":\n",
    "    mRNA = Seq(seq).transcribe()\n",
    "    protein = mRNA.translate(to_stop=True)\n",
    "    print(f\"mRNA Sequence: {mRNA}\")\n",
    "    print(f\"Protein Sequence: {protein}\")\n",
    "    print(\"-\" * 50)\n",
    "  else:\n",
    "    print(\"No Start Codon Found\")\n",
    "    print(\"-\" * 50)"
   ]
  },
  {
   "cell_type": "markdown",
   "metadata": {},
   "source": [
    "## Extract All Codons"
   ]
  },
  {
   "cell_type": "code",
   "execution_count": null,
   "metadata": {},
   "outputs": [
    {
     "name": "stdout",
     "output_type": "stream",
     "text": [
      "Codons:\n",
      "AUG\n",
      "GCC\n",
      "AUU\n",
      "GUA\n",
      "AUG\n",
      "GGC\n",
      "CGC\n",
      "UGA\n",
      "AAG\n",
      "GGU\n",
      "GCC\n",
      "CGA\n",
      "UAG\n",
      "--------------------------------------------------\n",
      "Codons:\n",
      "UGU\n",
      "UUC\n",
      "CCG\n",
      "GGA\n",
      "AUC\n",
      "UAA\n",
      "--------------------------------------------------\n",
      "Warning: Sequence length is not a multiple of 3. Extra nucleotides will be ignored.\n",
      "Codons:\n",
      "AUG\n",
      "GGU\n",
      "UGA\n",
      "GUA\n",
      "--------------------------------------------------\n",
      "Warning: Sequence length is not a multiple of 3. Extra nucleotides will be ignored.\n",
      "Codons:\n",
      "UGA\n",
      "GGG\n",
      "UCC\n",
      "CUG\n",
      "--------------------------------------------------\n"
     ]
    }
   ],
   "source": [
    "def extract_codons(mrna_sequence):\n",
    "  # Check if sequence length is a multiple of 3\n",
    "  if len(mrna_sequence) % 3 != 0:\n",
    "    print(\"Warning: Sequence length is not a multiple of 3. Extra nucleotides will be ignored.\")\n",
    "\n",
    "  print(\"Codons:\")\n",
    "  for i in range(0, len(mrna_sequence) - 2, 3):\n",
    "    codon = mrna_sequence[i:i+3]\n",
    "    print(codon)\n",
    "\n",
    "for seq in dna_sequences:\n",
    "  mRNA = Seq(seq).transcribe()\n",
    "  extract_codons(mRNA)\n",
    "  print(\"-\" * 50)"
   ]
  },
  {
   "cell_type": "markdown",
   "metadata": {},
   "source": [
    "## Stop translation if a stop codon is found"
   ]
  },
  {
   "cell_type": "code",
   "execution_count": 8,
   "metadata": {},
   "outputs": [
    {
     "name": "stdout",
     "output_type": "stream",
     "text": [
      "Codons:\n",
      "AUG\n",
      "GCC\n",
      "AUU\n",
      "GUA\n",
      "AUG\n",
      "GGC\n",
      "CGC\n",
      "UGA\n",
      "Stop codon encountered. Translation terminated.\n",
      "--------------------------------------------------\n",
      "Codons:\n",
      "AUG\n",
      "UUU\n",
      "CCC\n",
      "GGG\n",
      "AAU\n",
      "CUA\n",
      "--------------------------------------------------\n",
      "Codons:\n",
      "AUG\n",
      "GGU\n",
      "UGA\n",
      "Stop codon encountered. Translation terminated.\n",
      "--------------------------------------------------\n",
      "Codons:\n",
      "AUG\n",
      "AGG\n",
      "GUC\n",
      "CCU\n",
      "--------------------------------------------------\n"
     ]
    }
   ],
   "source": [
    "def translate_mrna_until_stop(mrna_sequence):\n",
    "  # List of stop codons\n",
    "  stop_codons = [\"UAA\", \"UAG\", \"UGA\"]\n",
    "\n",
    "  print(\"Codons:\")\n",
    "  for i in range(0, len(mrna_sequence) - 2, 3):\n",
    "    codon = mrna_sequence[i:i+3]\n",
    "    print(codon)\n",
    "\n",
    "    if codon in stop_codons:\n",
    "      print(\"Stop codon encountered. Translation terminated.\")\n",
    "      break\n",
    "\n",
    "\n",
    "for seq in dna_sequences:\n",
    "  mRNA = Seq(seq).transcribe()\n",
    "  translate_mrna_until_stop(mRNA)\n",
    "  print(\"-\" * 50)\n"
   ]
  }
 ],
 "metadata": {
  "kernelspec": {
   "display_name": "Python 3",
   "language": "python",
   "name": "python3"
  },
  "language_info": {
   "codemirror_mode": {
    "name": "ipython",
    "version": 3
   },
   "file_extension": ".py",
   "mimetype": "text/x-python",
   "name": "python",
   "nbconvert_exporter": "python",
   "pygments_lexer": "ipython3",
   "version": "3.12.7"
  }
 },
 "nbformat": 4,
 "nbformat_minor": 2
}
